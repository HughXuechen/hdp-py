{
 "cells": [
  {
   "cell_type": "markdown",
   "metadata": {},
   "source": [
    "### 1)  Data Pre-Processing"
   ]
  },
  {
   "cell_type": "markdown",
   "metadata": {},
   "source": [
    "This section contains code for pre-processing the data used in section 6 of [Hierarchical Dirichlet Processes](https://people.eecs.berkeley.edu/~jordan/papers/hdp.pdf).\n",
    "\n",
    "The data used comes from [this website](https://web.archive.org/web/20040328153507/http://elegans.swmed.edu/wli/cgcbib). "
   ]
  },
  {
   "cell_type": "code",
   "execution_count": 1,
   "metadata": {},
   "outputs": [],
   "source": [
    "import urllib\n",
    "import string\n",
    "\n",
    "url = 'https://raw.githubusercontent.com/tdhopper/topic-modeling-datasets/master/data/raw/Nematode%20biology%20abstracts/cgcbib.txt'\n",
    "file = urllib.request.urlopen(url)\n",
    "data = file.read().decode(\"ISO-8859-1\")"
   ]
  },
  {
   "cell_type": "code",
   "execution_count": 2,
   "metadata": {},
   "outputs": [],
   "source": [
    "# Remove '\\n' and '\\r'\n",
    "data = data.lower().translate(str.maketrans('\\n', ' '))\n",
    "data = data.translate(str.maketrans('\\r', ' '))\n",
    "# Remove punctuation except for '-' so we can split after each abstract\n",
    "data = data.translate(str.maketrans('','', '!\"#$%&\\'()*+,./:;<=>?@[\\\\]^_`{|}~'))\n",
    "# Remove numbers\n",
    "data = data.translate(str.maketrans('','', string.digits))"
   ]
  },
  {
   "cell_type": "code",
   "execution_count": 3,
   "metadata": {},
   "outputs": [
    {
     "data": {
      "text/plain": [
       "6224"
      ]
     },
     "execution_count": 3,
     "metadata": {},
     "output_type": "execute_result"
    }
   ],
   "source": [
    "data.count('abstract')"
   ]
  },
  {
   "cell_type": "code",
   "execution_count": 4,
   "metadata": {},
   "outputs": [
    {
     "data": {
      "text/plain": [
       "6216"
      ]
     },
     "execution_count": 4,
     "metadata": {},
     "output_type": "execute_result"
    }
   ],
   "source": [
    "len(data.split('-------------------'))"
   ]
  },
  {
   "cell_type": "markdown",
   "metadata": {},
   "source": [
    "The number of abstracts is 6216. However, in the paper it is stated that there were only 5838 abstracts. We need to remove the ones that only say \"in French\". "
   ]
  },
  {
   "cell_type": "code",
   "execution_count": 5,
   "metadata": {},
   "outputs": [],
   "source": [
    "tmp = data.split('-------------------')\n",
    "# Remove the '-' now\n",
    "tmp = [abstract.translate(str.maketrans('-', ' ')) for abstract in tmp]"
   ]
  },
  {
   "cell_type": "code",
   "execution_count": 6,
   "metadata": {},
   "outputs": [],
   "source": [
    "# Remove entries without the word \"abstract\" in it\n",
    "tmp = tmp[:-1]\n",
    "\n",
    "# Only keep the words after 'abstract'\n",
    "tmp = [abstract.split('abstract')[1] for abstract in tmp]"
   ]
  },
  {
   "cell_type": "code",
   "execution_count": 7,
   "metadata": {},
   "outputs": [
    {
     "data": {
      "text/plain": [
       "6189"
      ]
     },
     "execution_count": 7,
     "metadata": {},
     "output_type": "execute_result"
    }
   ],
   "source": [
    "from itertools import compress\n",
    "\n",
    "# Remove French Abstracts\n",
    "not_french = ['in french' not in i for i in tmp]\n",
    "tmp = list(compress(tmp, not_french))\n",
    "len(tmp)"
   ]
  },
  {
   "cell_type": "code",
   "execution_count": 21,
   "metadata": {},
   "outputs": [
    {
     "data": {
      "text/plain": [
       "' before diakinesis the development of the oocytes of c               elegans takes place in the presence of a specific               anatomical structure the rachis  this is an undivided               anucleated cytoplasmic mass placed in the central part of               the ovary  electron microscopy shows that at first in               the gonial region it is made of two branches which               infiltrate themselves between the oogonia and then converge               in a single axial column  afterwards this column will be               pushed to the outside of the gonad and will disappear when               the great oocyte increase takes place  until then the               rachis is limited by its own envelope and connects each               germinal cell through a pore present in the double layered               membrane  the cytoplasmic bridge established between the               oogonia and the rachis the presence of a typical golgi               apparatus and of numerous mitochondria in the rachis               strongly suggest that the rachis plays a role in the oocyte               '"
      ]
     },
     "execution_count": 21,
     "metadata": {},
     "output_type": "execute_result"
    }
   ],
   "source": [
    "tmp[1]"
   ]
  },
  {
   "cell_type": "markdown",
   "metadata": {},
   "source": [
    "There are still 6189 abstracts in our data. This means that we are not working with the same dataset as in the paper, but it is a close representation and hopefully will deliver similar results."
   ]
  },
  {
   "cell_type": "markdown",
   "metadata": {},
   "source": [
    "Now, we need to remove stop words and words appearing fewer than 10 times from our abstracts."
   ]
  },
  {
   "cell_type": "code",
   "execution_count": 14,
   "metadata": {},
   "outputs": [],
   "source": [
    "# Need to run nltk.download('stopwords') first\n",
    "from nltk.corpus import stopwords\n",
    "import pandas as pd\n",
    "\n",
    "stop_words = set(stopwords.words('english')) \n",
    "\n",
    "# Remove stop words\n",
    "words = ''.join([i for ab in tmp  for i in ab]).split()\n",
    "words = [i for i in words if not i in stop_words]\n",
    "\n",
    "# Remove words that appear less than 10 times\n",
    "s_words = pd.Series(words)\n",
    "ten_ = list(compress(s_words.value_counts().index, s_words.value_counts() > 9))"
   ]
  },
  {
   "cell_type": "code",
   "execution_count": 15,
   "metadata": {},
   "outputs": [],
   "source": [
    "# Convert abstracts to have only these words\n",
    "lists_of_words = [i.split() for i in tmp]\n",
    "final_ = []\n",
    "for j in range(len(lists_of_words)):\n",
    "    final_.append([i for i in lists_of_words[j] if i in ten_])"
   ]
  },
  {
   "cell_type": "code",
   "execution_count": 16,
   "metadata": {},
   "outputs": [
    {
     "name": "stdout",
     "output_type": "stream",
     "text": [
      "Number of words: 550318\n",
      "Number of distinct words: 5911\n"
     ]
    }
   ],
   "source": [
    "# Find number of words and number of distinct words\n",
    "print('Number of words:', len([i for sub in final_ for i in sub]))\n",
    "print('Number of distinct words:', len(set([i for sub in final_ for i in sub])))"
   ]
  },
  {
   "cell_type": "markdown",
   "metadata": {},
   "source": [
    "The data used in **Hierarchical Dirichlet Processes** has 476,441 words and 5,699 distinct words. \n",
    "\n",
    "The last step is transforming the data into a matrix with the count of each word per document. Our final dataset can be accessed through calling `final_`. "
   ]
  },
  {
   "cell_type": "code",
   "execution_count": 17,
   "metadata": {},
   "outputs": [],
   "source": [
    "unique_words = ten_"
   ]
  },
  {
   "cell_type": "code",
   "execution_count": 29,
   "metadata": {},
   "outputs": [],
   "source": [
    "# NOTE TO GEORGE: I modified this code to fit the format required by the HDP class\n",
    "import numpy as np\n",
    "\n",
    "word_counts = np.zeros((len(final_), len(unique_words)))\n",
    "\n",
    "for i, word in enumerate(unique_words):\n",
    "    for j, doc in enumerate(final_):\n",
    "        word_counts[j,i] = doc.count(word)\n",
    "        \n",
    "df = pd.DataFrame(word_counts, columns=unique_words, dtype='int')"
   ]
  },
  {
   "cell_type": "code",
   "execution_count": 31,
   "metadata": {},
   "outputs": [],
   "source": [
    "df.to_csv('final_project_data.csv')"
   ]
  },
  {
   "cell_type": "code",
   "execution_count": null,
   "metadata": {},
   "outputs": [],
   "source": []
  }
 ],
 "metadata": {
  "kernelspec": {
   "display_name": "Python 3",
   "language": "python",
   "name": "python3"
  },
  "language_info": {
   "codemirror_mode": {
    "name": "ipython",
    "version": 3
   },
   "file_extension": ".py",
   "mimetype": "text/x-python",
   "name": "python",
   "nbconvert_exporter": "python",
   "pygments_lexer": "ipython3",
   "version": "3.7.4"
  }
 },
 "nbformat": 4,
 "nbformat_minor": 4
}
