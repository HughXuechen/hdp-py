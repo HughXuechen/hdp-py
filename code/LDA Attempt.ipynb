{
 "cells": [
  {
   "cell_type": "code",
   "execution_count": 137,
   "metadata": {},
   "outputs": [],
   "source": [
    "import urllib\n",
    "import string\n",
    "from itertools import compress\n",
    "from nltk.corpus import stopwords \n",
    "import pandas as pd\n",
    "from functools import reduce\n",
    "import os\n",
    "from bs4 import BeautifulSoup,SoupStrainer"
   ]
  },
  {
   "cell_type": "code",
   "execution_count": 138,
   "metadata": {},
   "outputs": [],
   "source": [
    "directory = os.fsencode('data')\n",
    "docs = []\n",
    "for file in os.listdir(directory):\n",
    "    filename = os.fsdecode(file)\n",
    "    f = open(f'data/{filename}', 'r')\n",
    "    data= f.read()\n",
    "    soup = BeautifulSoup(data)\n",
    "    contents = soup.findAll('text')\n",
    "    f.close()\n",
    "    docs.append(str(contents).split('</text>'))\n",
    "\n",
    "docs = [i for doc in docs for i in doc]"
   ]
  },
  {
   "cell_type": "code",
   "execution_count": 139,
   "metadata": {},
   "outputs": [],
   "source": [
    "# split on </dateline> and keep everything after it\n",
    "docs = list(compress(docs, ['</dateline>' in i for i in docs]))\n",
    "docs = [i.split('</dateline>')[1] for i in docs]\n",
    "docs = [i.lower().translate(str.maketrans('\\n', ' ')) for i in docs]\n",
    "docs = [i.translate(str.maketrans('\\r', ' ')) for i in docs]\n",
    "docs = [i.translate(str.maketrans('\\x03', ' ')) for i in docs]\n",
    "docs = [i.translate(str.maketrans('', '', string.punctuation)) for i in docs]\n",
    "docs = [i.translate(str.maketrans('', '', string.digits)) for i in docs]\n",
    "docs = [i.replace('said',' ') for i in docs] # another stop word\n",
    "docs = [i.replace('reuter', ' ') for i in docs]\n",
    "docs = [i.split() for i in docs]"
   ]
  },
  {
   "cell_type": "code",
   "execution_count": 140,
   "metadata": {},
   "outputs": [],
   "source": [
    "def reducedVocab(lists, stop_words = None, min_word_count = 10):\n",
    "    '''This function takes a list of words in a list of documents and returns the lists of lists with a reduced\n",
    "       vocabulary, the flattened list, and the vocabulary'''\n",
    "    \n",
    "    if stop_words == None:\n",
    "        stop_words = set(stopwords.words('english'))\n",
    "    \n",
    "    # Remove stop words\n",
    "    words = [i for sublist in lists for i in sublist if not i in stop_words]\n",
    "\n",
    "    # Remove words that appear less than min_word_count times\n",
    "    wordSeries = pd.Series(words)\n",
    "    vocab = list(compress(wordSeries.value_counts().index, wordSeries.value_counts() >= min_word_count))\n",
    "    \n",
    "    # Recreate lists with filtered vocab\n",
    "    docs = []\n",
    "    for j in range(len(lists)):\n",
    "        docs.append([i for i in lists[j] if i in vocab])\n",
    "    \n",
    "    #flatten docs\n",
    "    one_list = [i for sublist in docs for i in sublist]\n",
    "    \n",
    "    return docs, one_list, vocab\n",
    "\n",
    "def listsToVec(lists, stop_words = None, min_word_count = 10, verbose = 1):\n",
    "    '''\n",
    "    This function takes a list of lists of the words in each document. It removes any stop words, removes words that\n",
    "    appear 'min_word_count' times or less, and maps each word in the documents' vocabulary to a number. \n",
    "    Two flattened vectors are returned, the mapped numbers 'x', and the corresponding document each word belongs to 'j'.'''\n",
    "\n",
    "    # Remove stop words and words that appear less than 'min_word_count' times\n",
    "    docs, one_list, vocab = reducedVocab(lists, stop_words, min_word_count)\n",
    "    \n",
    "    # Map each word to a number\n",
    "    #numbers = list(range(len(vocab)))\n",
    "    #vocab_dict = dict(zip(vocab, numbers))\n",
    "    #x = list(map(vocab_dict.get, one_list))\n",
    "    \n",
    "    # Check for empty lists and print warning if one is found\n",
    "    counter = 0\n",
    "    for i in range(len(docs)-1 ,-1, -1):\n",
    "        if len(docs[i]) == 0:\n",
    "            if verbose > 1:\n",
    "                print(f'WARNING: Document {i} is empty and being removed...')\n",
    "            del docs[i]\n",
    "            counter += 1\n",
    "    \n",
    "    if verbose == 1 and counter > 1:\n",
    "        print(f'WARNING: {counter} documents are empty and being removed...')\n",
    "    \n",
    "    elif verbose == 1 and counter == 1:\n",
    "        print(f'WARNING: {counter} document is empty and being removed...')\n",
    "    \n",
    "    X_matrix = pd.DataFrame(np.zeros((len(one_list), len(vocab))),\n",
    "                           columns=vocab)\n",
    "\n",
    "    for i, word in enumerate(one_list):\n",
    "        X_matrix.loc[i, word] = 1   \n",
    "    \n",
    "    # Determine which document each word belongs to\n",
    "    count, j = 0, []\n",
    "    for i in docs:\n",
    "        j.append([count]*len(i))\n",
    "        count += 1\n",
    "        \n",
    "    # Reduce to a flattened list\n",
    "    j = [i for sublist in j for i in sublist]\n",
    "    \n",
    "    return X_matrix, j"
   ]
  },
  {
   "cell_type": "code",
   "execution_count": 166,
   "metadata": {},
   "outputs": [],
   "source": [
    "import numpy as np\n",
    "\n",
    "\n",
    "# Select random subset of the documents\n",
    "selected = np.random.choice(len(docs), 110, replace = False)\n",
    "subset_docs = [docs[i] for i in selected]"
   ]
  },
  {
   "cell_type": "code",
   "execution_count": 167,
   "metadata": {},
   "outputs": [],
   "source": [
    "# Process subset of documents\n",
    "docs, one_list, vocab = reducedVocab(subset_docs, min_word_count = 3)"
   ]
  },
  {
   "cell_type": "markdown",
   "metadata": {},
   "source": [
    "## LDA Models"
   ]
  },
  {
   "cell_type": "code",
   "execution_count": 143,
   "metadata": {},
   "outputs": [],
   "source": [
    "import gensim\n",
    "import gensim.corpora as corpora\n",
    "from gensim.utils import simple_preprocess\n",
    "from gensim.models import CoherenceModel, LsiModel\n",
    "from pprint import pprint\n",
    "import re\n",
    "import pandas as pd\n",
    "import numpy as np\n",
    "import string\n",
    "import os\n",
    "import matplotlib.pyplot as plt"
   ]
  },
  {
   "cell_type": "code",
   "execution_count": 265,
   "metadata": {},
   "outputs": [],
   "source": [
    "def LDA_perplexity(docs, max_train_index, min_topics, max_topics):\n",
    "    '''\n",
    "    This function takes a list of lists (words in documents) and the number of documents you want in the training set.\n",
    "    NOTE : max_train_index must be less than len(docs)\n",
    "    \n",
    "    It calculates the perplexity of the trained LDA model on the remaining unseen documents in 'docs' ranging\n",
    "    from n_topics = min_topics to n_topics = max_topics\n",
    "    '''\n",
    "    \n",
    "    assert max_train_index < len(docs), 'max_train_index must be less than the length of docs'\n",
    "    assert min_topics <= max_topics, 'min_topics must be less than or equal to max_topics'\n",
    "    \n",
    "    train = docs[:max_train_index]\n",
    "    test = docs[max_train_index:]\n",
    "    N = len([i for sublist in test for i in sublist])\n",
    "    \n",
    "    train_2word = corpora.Dictionary(docs)\n",
    "    train_corpus = [train_2word.doc2bow(doc) for doc in train]\n",
    "    \n",
    "    test_2word = corpora.Dictionary(docs)\n",
    "    test_corpus = [test_2word.doc2bow(doc) for doc in test]\n",
    "    \n",
    "    log_perp = []\n",
    "    for i in range(min_topics, max_topics + 1): \n",
    "        \n",
    "        lda_model = gensim.models.ldamodel.LdaModel(corpus = train_corpus,\n",
    "                                               id2word = train_2word,\n",
    "                                               num_topics = i,\n",
    "                                               random_state = 23,\n",
    "                                               eval_every = 20,\n",
    "                                               alpha = 'asymmetric',\n",
    "                                               iterations = 50)\n",
    "        \n",
    "        tmp_perplex = lda_model.log_perplexity(test_corpus)\n",
    "        log_perp.append(-tmp_perplex/N)\n",
    "        \n",
    "    perplexity = np.exp(log_perp)\n",
    "    \n",
    "    return perplexity\n",
    "    "
   ]
  },
  {
   "cell_type": "code",
   "execution_count": 304,
   "metadata": {},
   "outputs": [],
   "source": [
    "def plt_perplexity(perplexity, min_topics, max_topics):\n",
    "    '''\n",
    "    This function plots the perplexity given in the input.\n",
    "    '''\n",
    "    plt.plot(perplexity[1,:], perplexity[0,:])\n",
    "    plt.xlabel('Number of LDA Topics')\n",
    "    plt.xticks(np.arange(min_topics, max_topics, step=(max_topics - min_topics)//8))\n",
    "    #plt.xticks(min_topics,max_topics)\n",
    "    plt.ylabel('Perplexity')\n",
    "    plt.title('Perplexity of LDA Model on Test Documents')\n",
    "    plt.show()"
   ]
  },
  {
   "cell_type": "code",
   "execution_count": 266,
   "metadata": {},
   "outputs": [],
   "source": [
    "perplexity = LDA_perplexity(docs, 100, 2, 40)"
   ]
  },
  {
   "cell_type": "code",
   "execution_count": 306,
   "metadata": {},
   "outputs": [],
   "source": [
    "mat = np.zeros((2, 39))\n",
    "mat[0,:] = perplexity\n",
    "mat[1,:] = np.arange(2,41)"
   ]
  },
  {
   "cell_type": "code",
   "execution_count": 305,
   "metadata": {},
   "outputs": [
    {
     "data": {
      "image/png": "[encoded data removed]",
      "text/plain": [
       "<Figure size 432x288 with 1 Axes>"
      ]
     },
     "metadata": {
      "needs_background": "light"
     },
     "output_type": "display_data"
    }
   ],
   "source": [
    "plt_perplexity(mat, 2, 40)"
   ]
  },
  {
   "cell_type": "markdown",
   "metadata": {},
   "source": [
    "## Manually calculate Perplexity"
   ]
  },
  {
   "cell_type": "code",
   "execution_count": 307,
   "metadata": {},
   "outputs": [
    {
     "data": {
      "text/plain": [
       "1.1818179506098327"
      ]
     },
     "execution_count": 307,
     "metadata": {},
     "output_type": "execute_result"
    }
   ],
   "source": [
    "train = docs[:100]\n",
    "test = docs[100:]\n",
    "    \n",
    "train_2word = corpora.Dictionary(docs)\n",
    "train_corpus = [train_2word.doc2bow(doc) for doc in train]\n",
    "    \n",
    "test_2word = corpora.Dictionary(docs)\n",
    "test_corpus = [test_2word.doc2bow(doc) for doc in test]\n",
    "    \n",
    "lda_model = gensim.models.ldamodel.LdaModel(corpus = train_corpus,\n",
    "                                               id2word = train_2word,\n",
    "                                               num_topics = 4,\n",
    "                                               random_state = 23,\n",
    "                                               eval_every = 20,\n",
    "                                               alpha = 'asymmetric',\n",
    "                                               iterations = 50)\n",
    "\n",
    "lda_model.get_document_topics(test_corpus, minimum_probability = 1e-8, per_word_topics = True)       \n",
    "    \n",
    "new_topics = lda_model[test_corpus]\n",
    "\n",
    "# Theta for a single document\n",
    "theta = [e for _, e in new_topics[0][0]]\n",
    "\n",
    "# Phi for a single document\n",
    "phi = []\n",
    "for i in range(len(new_topics[0][2])):\n",
    "    first, second = new_topics[0][2][i]\n",
    "    phi.append([e for _, e in second])\n",
    "\n",
    "# Perplexity\n",
    "np.exp(sum(-np.log(np.inner(theta[:2], np.array(phi))))/15)\n"
   ]
  },
  {
   "cell_type": "markdown",
   "metadata": {},
   "source": [
    "## LSA Models"
   ]
  },
  {
   "cell_type": "code",
   "execution_count": 308,
   "metadata": {},
   "outputs": [],
   "source": [
    "def LSA_perplexity(docs, max_train_index, min_topics, max_topics):\n",
    "    '''\n",
    "    This function takes a list of lists (words in documents) and the number of documents you want in the training set.\n",
    "    NOTE : max_train_index must be less than len(docs)\n",
    "    \n",
    "    It calculates the perplexity of the trained LDA model on the remaining unseen documents in 'docs' ranging\n",
    "    from n_topics = min_topics to n_topics = max_topics\n",
    "    '''\n",
    "    \n",
    "    assert max_train_index < len(docs), 'max_train_index must be less than the length of docs'\n",
    "    assert min_topics <= max_topics, 'min_topics must be less than or equal to max_topics'\n",
    "    \n",
    "    train = docs[:max_train_index]\n",
    "    test = docs[max_train_index:]\n",
    "    \n",
    "    train_2word = corpora.Dictionary(train)\n",
    "    train_corpus = [train_2word.doc2bow(doc) for doc in train]\n",
    "    \n",
    "    test_2word = corpora.Dictionary(test)\n",
    "    test_corpus = [test_2word.doc2bow(doc) for doc in test]\n",
    "    \n",
    "    perplexity = []\n",
    "    for i in range(min_topics, max_topics + 1): \n",
    "        \n",
    "        lsa_model = LsiModel(corpus = train_corpus,\n",
    "                                      id2word = train_2word,\n",
    "                                      num_topics = i)\n",
    "        \n",
    "        # Still need to calculate perplexity\n",
    "        \n",
    "    "
   ]
  },
  {
   "cell_type": "markdown",
   "metadata": {},
   "source": [
    "## LDA on Paper Data"
   ]
  },
  {
   "cell_type": "code",
   "execution_count": 151,
   "metadata": {},
   "outputs": [],
   "source": [
    "url = 'https://raw.githubusercontent.com/tdhopper/topic-modeling-datasets/master/data/raw/Nematode%20biology%20abstracts/cgcbib.txt'\n",
    "file = urllib.request.urlopen(url)\n",
    "data = file.read().decode(\"ISO-8859-1\")"
   ]
  },
  {
   "cell_type": "code",
   "execution_count": 152,
   "metadata": {},
   "outputs": [],
   "source": [
    "def docsToList(data):\n",
    "    '''\n",
    "    This function takes a string of abstracts and converts it to a list of lists of the words in each abstract.\n",
    "    This function was made specifically for the data obtained here:\n",
    "    https://raw.githubusercontent.com/tdhopper/topic-modeling-datasets/master/data/raw/Nematode%20biology%20abstracts/cgcbib.txt\n",
    "    '''\n",
    "    \n",
    "    # Remove '\\n' and '\\r'\n",
    "    data = data.lower().translate(str.maketrans('\\n', ' '))\n",
    "    data = data.translate(str.maketrans('\\r', ' '))\n",
    "    \n",
    "    # Remove punctuation except for '-' so we can split after each abstract\n",
    "    data = data.translate(str.maketrans('', '', '!\"#$%&\\'()*+,./;<=>?@[\\\\]^_`{|}~'))\n",
    "    \n",
    "    # Remove numbers\n",
    "    data = data.translate(str.maketrans('','', string.digits))\n",
    "    \n",
    "    # Split after 'abstract' is stated\n",
    "    data = data.split('-------------------')\n",
    "    # Remove '-' punctuation now\n",
    "    data = [abstract.translate(str.maketrans('-', ' ')) for abstract in data]\n",
    "    \n",
    "    # Remove entries without the word \"abstract\" in it\n",
    "    abs_check = ['abstract' in i for i in data]\n",
    "    data = list(compress(data, abs_check))\n",
    "\n",
    "    # Only keep the words after 'abstract'\n",
    "    data = [abstract.split('abstract:')[1] for abstract in data]\n",
    "    \n",
    "    # Remove any remaining :'s\n",
    "    data = [abstract.translate(str.maketrans(':', ' ')) for abstract in data]\n",
    "    \n",
    "    # Remove abstracts that only state 'in french'\n",
    "    not_french = ['in french' not in i for i in data]\n",
    "    data = list(compress(data, not_french))\n",
    "    \n",
    "    # Create list of lists output\n",
    "    output = [i.split() for i in data]\n",
    "    \n",
    "    return output"
   ]
  },
  {
   "cell_type": "code",
   "execution_count": 309,
   "metadata": {},
   "outputs": [
    {
     "data": {
      "image/png": "[encoded data removed]",
      "text/plain": [
       "<Figure size 432x288 with 1 Axes>"
      ]
     },
     "metadata": {
      "needs_background": "light"
     },
     "output_type": "display_data"
    }
   ],
   "source": [
    "lists = docsToList(data)\n",
    "lists = lists[:110]\n",
    "perplexity = LDA_perplexity(lists, 100, 2, 40)\n",
    "mat = np.zeros((2, 39))\n",
    "mat[0,:] = perplexity\n",
    "mat[1,:] = np.arange(2,41)\n",
    "\n",
    "plt_perplexity(mat, 2, 40)"
   ]
  },
  {
   "cell_type": "markdown",
   "metadata": {},
   "source": [
    "## Perplexity generally decreases as the number of topics increases. \n",
    "\n",
    "My manual calculation of perplexity for a document appears to be consistent for perplexity for the test corpus calculated by gensim's log_perplexity. There are posts online about gensim's log_perplexity having this problem, and the creators say they will address it but possibly never have? "
   ]
  }
 ],
 "metadata": {
  "kernelspec": {
   "display_name": "Python 3",
   "language": "python",
   "name": "python3"
  },
  "language_info": {
   "codemirror_mode": {
    "name": "ipython",
    "version": 3
   },
   "file_extension": ".py",
   "mimetype": "text/x-python",
   "name": "python",
   "nbconvert_exporter": "python",
   "pygments_lexer": "ipython3",
   "version": "3.6.8"
  }
 },
 "nbformat": 4,
 "nbformat_minor": 2
}
