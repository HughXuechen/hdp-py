{
 "cells": [
  {
   "cell_type": "code",
   "execution_count": 2,
   "metadata": {},
   "outputs": [],
   "source": [
    "import numpy as np\n",
    "import pandas as pd\n",
    "from scipy.stats import gamma\n",
    "from scipy.special import factorial\n",
    "from scipy.special import loggamma as logg"
   ]
  },
  {
   "cell_type": "markdown",
   "metadata": {},
   "source": [
    "$$\n",
    "\\begin{aligned}\n",
    "\\frac{\\int f(x_{ji} \\mid \\phi_k)\\prod_{j'i' \\neq ji, z_{j'i'}=k} f(x_{j'i'} \\mid \\phi_k)h(\\phi_k)d\\phi_k}{\\int \\prod_{j'i' \\neq ji, z_{j'i'}=k} f(x_{j'i'} \\mid \\phi_k)h(\\phi_k)d\\phi_k} &= \\frac{\\int\\frac{\\theta_k^{x_{ji}}e^{-\\theta_k}}{x_{ji}!}\\frac{\\beta^\\alpha}{\\Gamma(\\alpha)}\\theta_k^{\\alpha-1}e^{-\\beta\\theta_k}\\prod_{j'i' \\neq ji, z_{j'i'}=k} \\frac{\\theta_k^{x_{j'i'}}e^{-\\theta_k}}{x_{j'i'}!}d\\theta_k}{\\int \\frac{\\beta^\\alpha}{\\Gamma(\\alpha)}\\theta_k^{\\alpha-1}e^{-\\beta\\theta_k}\\prod_{j'i' \\neq ji, z_{j'i'}=k} \\frac{\\theta_k^{x_{j'i'}}e^{-\\theta_k}}{x_{j'i'}!}d\\theta_k} \\\\\n",
    "&\\propto \\int\\frac{\\theta_k^{x_{ji}}e^{-\\theta_k}}{x_{ji}!}\\frac{\\beta^\\alpha}{\\Gamma(\\alpha)}\\theta_k^{\\alpha-1}e^{-\\beta\\theta_k}\\prod_{j'i' \\neq ji, z_{j'i'}=k} \\frac{\\theta_k^{x_{j'i'}}e^{-\\theta_k}}{x_{j'i'}!}d\\theta_k \\\\\n",
    "&\\propto \\frac{1}{\\prod_{z_{j'i'} = k} x_{j'i'}!}\\frac{\\beta^\\alpha}{\\Gamma(\\alpha)}\\frac{\\Gamma(\\alpha - 1 + \\sum_{z_{j'i'} = k} x_{j'i'})}{(|V| + \\beta + 1)^{\\alpha - 1 + \\sum_{z_{j'i'} = k} x_{j'i'}}}\\int Gamma(\\theta_k; \\alpha - 1 + \\sum_{z_{j'i'} = k} x_{j'i'}, |V| + \\beta + 1)d\\theta_k \\\\\n",
    "&= \\frac{1}{\\prod_{z_{j'i'} = k} x_{j'i'}!}\\frac{\\beta^\\alpha}{\\Gamma(\\alpha)}\\frac{\\Gamma(\\alpha - 1 + \\sum_{z_{j'i'} = k} x_{j'i'})}{(|V| + \\beta + 1)^{\\alpha - 1 + \\sum_{z_{j'i'} = k} x_{j'i'}}}\\\\\n",
    "\\end{aligned}\n",
    "$$"
   ]
  },
  {
   "cell_type": "markdown",
   "metadata": {},
   "source": [
    "$$\n",
    "\\begin{aligned}\n",
    "\\frac{\\int f(x_{jt} \\mid \\phi_k)\\prod_{j't' \\neq ji, z_{j't'}=k} f(x_{j't'} \\mid \\phi_k)h(\\phi_k)d\\phi_k}{\\int \\prod_{j't' \\neq jt, z_{j't'}=k} f(x_{j't'} \\mid \\phi_k)h(\\phi_k)d\\phi_k} &= \\frac{\\int\\prod_{j'i' \\in jt}\\frac{\\theta_k^{x_{j'i'}}e^{-\\theta_k}}{x_{j'i'}!}\\frac{\\beta^\\alpha}{\\Gamma(\\alpha)}\\theta_k^{\\alpha-1}e^{-\\beta\\theta_k}\\prod_{j't' \\neq jt, z_{j't'}=k} \\frac{\\theta_k^{x_{j't'}}e^{-\\theta_k}}{x_{j't'}!}d\\theta_k}{\\int \\frac{\\beta^\\alpha}{\\Gamma(\\alpha)}\\theta_k^{\\alpha-1}e^{-\\beta\\theta_k}\\prod_{j't' \\neq jt, z_{j't'}=k} \\frac{\\theta_k^{x_{j't'}}e^{-\\theta_k}}{x_{j't'}!}d\\theta_k} \\\\\n",
    "&\\propto \\int\\prod_{j'i' \\in jt}\\frac{\\theta_k^{x_{j'i'}}e^{-\\theta_k}}{x_{j'i'}!}\\frac{\\beta^\\alpha}{\\Gamma(\\alpha)}\\theta_k^{\\alpha-1}e^{-\\beta\\theta_k}\\prod_{j't' \\neq jt, z_{j't'}=k} \\frac{\\theta_k^{x_{j't'}}e^{-\\theta_k}}{x_{j't'}!}d\\theta_k \\\\\n",
    "&\\propto \\frac{1}{\\prod_{j'i' \\in jt} x_{j'i'}!}\\frac{\\beta^\\alpha}{\\Gamma(\\alpha)}\\frac{\\Gamma(\\alpha - 1 + \\sum_{z_{j'i'} = k_{t_{jt}}} x_{j'i'})}{(|W| + \\beta + |T|)^{\\alpha - 1 + \\sum_{z_{j'i'} = k_{t_{jt}}} x_{j'i'}}}\\int Gamma(\\theta_k; \\alpha - 1 + \\sum_{z_{j'i'} = k_{t_{jt}}} x_{j'i'}, |W| + \\beta + |T|)d\\theta_k \\\\\n",
    "&= \\frac{1}{\\prod_{j'i' \\in jt} x_{j'i'}!}\\frac{\\beta^\\alpha}{\\Gamma(\\alpha)}\\frac{\\Gamma(\\alpha - 1 + \\sum_{z_{j'i'} = k_{t_{jt}}} x_{j'i'})}{(|W| + \\beta + |T|)^{\\alpha - 1 + \\sum_{z_{j'i'} = k_{t_{jt}}} x_{j'i'}}}\n",
    "\\end{aligned}\n",
    "$$"
   ]
  },
  {
   "cell_type": "code",
   "execution_count": 14,
   "metadata": {},
   "outputs": [
    {
     "name": "stdout",
     "output_type": "stream",
     "text": [
      "False\n",
      "[1. 4.]\n",
      "3.0\n"
     ]
    },
    {
     "name": "stderr",
     "output_type": "stream",
     "text": [
      "C:\\Users\\morri\\Anaconda3\\lib\\site-packages\\ipykernel_launcher.py:6: DeprecationWarning: elementwise comparison failed; this will raise an error in the future.\n",
      "  \n"
     ]
    }
   ],
   "source": [
    "DF1 = pd.DataFrame(np.c_[np.zeros(5), pd.DataFrame(np.c_[np.ones(5), np.array([1,2,2,3,4]), np.array([5,2,2,3,5])], \n",
    "                                                   columns = [\"j\",\"t\",\"k\"])], columns = [\"x\", \"j\", \"t\", \"k\"])\n",
    "\n",
    "prob_matr = np.array([[0.1, 0.4, 0.5],[0.8, 0.1, 0.1],[0.3, 0.4, 0.3],[0.2, 0.2, 0.6],[0.3, 0.2, 0.5]])\n",
    "\n",
    "print(np.array(DF1[\"t\"]) in np.unique(DF1.loc[DF1[\"k\"]==5][\"t\"]))\n",
    "print(np.unique(DF1.loc[DF1[\"k\"]==5][\"t\"]))\n",
    "print(DF1[\"t\"][3])"
   ]
  },
  {
   "cell_type": "code",
   "execution_count": null,
   "metadata": {},
   "outputs": [],
   "source": [
    "def gibbs_5_1(x, j, alpha_0, gamma_0, dist_type, n_iter = 1000, burn_in=0.1):\n",
    "    \n",
    "    \"\"\"\n",
    "    Implements the Gibbs sampler from HDP paper, algorithm in 5.1\n",
    "    \n",
    "    parameters:\n",
    "        x:         N data points (such as a word observed within a set of documents)\n",
    "        j:         N labels indicating the unique collection number (such as document 7 a set of 20 documents)\n",
    "        alpha_0:   prior on F\n",
    "        gamma_0:   prior on H\n",
    "        dist_type: distribution type\n",
    "        n_iter:    number of MCMC iterations\n",
    "        burn_in:   percentage of the MCMC iterations used as \"burn-in\" to stabilize the results\n",
    "    \"\"\"\n",
    "    \n",
    "    #initialize general objects\n",
    "    N = x.shape[0]\n",
    "    M = np.unique(j).shape[0]\n",
    "    K = 0\n",
    "    fk_ji = np.ones(N).reshape((-1,1))\n",
    "    fk_jt = np.ones(M).reshape((-1,1))\n",
    "    t, k = np.zeros(N), np.zeros(N)\n",
    "    labels_x = pd.DataFrame(np.c_[j, t, k], columns = [\"j\", \"t\", \"k\"])\n",
    "    \n",
    "    if(dist_type == \"Poisson\"):\n",
    "        # initialize probability model parameters\n",
    "        theta_k = np.ones(K).reshape((-1,1))\n",
    "        prior_matrix = np.zeros((1, 2))\n",
    "        \n",
    "        #gibbs sampler\n",
    "        for it in range(n_iter):\n",
    "            \n",
    "            #update t tables\n",
    "            fk_ji, theta_k, labels_x = update_fk_ji(x, fk_ji, fk_jt, theta_k, prior_matrix, labels_x, N, M, K, alpha_0, \n",
    "                                                    gamma_0, dist_type)\n",
    "            M = np.unique(labels_x[\"t\"]).shape[0]\n",
    "            K = np.unique(labels_x[\"k\"]).shape[0]\n",
    "            \n",
    "            #update k classes\n",
    "            fk_jt, theta_k, labels_x = update_fk_jt(x, fk_ji, fk_jt, theta_k, prior_matrix, labels_x, N, M, K, alpha_0, \n",
    "                                                    gamma_0, dist_type)\n",
    "            K = np.unique(labels_x[\"k\"]).shape[0]\n",
    "        \n",
    "        #saving and exporting results\n",
    "        mcmc_df = pd.DataFrame(np.c_[x, labels_x], columns = [\"x\", \"j\", \"t\", \"k\"])\n",
    "        return(mcmc_df)\n",
    "        #start_index = round(n_iter*burn_in)\n",
    "        #return(mcmc_df.iloc[start_index:]) \n",
    "        "
   ]
  },
  {
   "cell_type": "code",
   "execution_count": null,
   "metadata": {},
   "outputs": [],
   "source": [
    "#wrapper function 1 for distributions\n",
    "def update_fk_ji(x, fk_ji, fk_jt, theta_k, prior_matrix, labels_x, N, M, K, alpha_0, gamma_0, dist_type):\n",
    "    if(dist_type == \"Poisson\"):\n",
    "        return(update_fk_ji_poisson(x, fk_ji, fk_jt, theta_k, prior_matrix[0], prior_matrix[1], alpha_0, gamma_0, \n",
    "                                    labels_x, N, M, K))\n",
    "\n",
    "#wrapper function 2 for distributions\n",
    "def update_fk_jt(x, fk_ji, fk_jt, theta_k, prior_matrix, labels_x, N, M, K, alpha_0, gamma_0, dist_type):\n",
    "    if(dist_type == \"Poisson\"):\n",
    "        return(update_fk_jt_poisson(x, fk_ji, fk_jt, theta_k, prior_matrix[0], prior_matrix[1], alpha_0, gamma_0, \n",
    "                                    labels_x, N, M, K))"
   ]
  },
  {
   "cell_type": "code",
   "execution_count": null,
   "metadata": {},
   "outputs": [],
   "source": [
    "def update_fk_ji_poisson(x, fk_ji, fk_jt, theta_k, alpha, beta, alpha_0, gamma_0, labels_x, N, M, K):\n",
    "    for ji in np.random.permutation(N):\n",
    "        \n",
    "        #set up necessary slices\n",
    "        x_ji, x_fk_ji, labels_x_ji = x[ji], fk_ji[ji], labels_x.iloc[ji]\n",
    "        x_other, other_fk_ji, labels_x_other = np.r_[x[:ji], x[ji+1:]], np.concatenate([fk_ji[:ji,:],fk_ji[ji+1:]],axis=0), \n",
    "                                               labels_x.iloc[pd.np.r_[:ji, ji+1:]]\n",
    "        \n",
    "        t_ji = labels_x[\"t\"][ji]\n",
    "        \n",
    "        curr_prob = 0\n",
    "        for k in np.unique(labels_x[\"k\"]):\n",
    "            #new table probs\n",
    "            z_k = labels_x[\"k\"]==k\n",
    "            m_k = labels_x.loc[z_k].shape[0]\n",
    "            x_k_other = x_other[z_k]\n",
    "            log_f = -np.log(factorial(x_ji)) -np.sum(np.log(factorial(x_k_other))) + \n",
    "                    logg(x_ji + alpha + np.sum(x_k_other)) - \n",
    "                    (x_ji + alpha + np.sum(x_k_other))*np.log(1 + beta + x_k_other.shape[0]) + \n",
    "                    alpha*np.log(beta) - logg(alpha)\n",
    "            \n",
    "            curr_prob += m_k/(M+gamma_0)*np.exp(log_f)\n",
    "            \n",
    "            #existing table probs\n",
    "            x_t_ji = x[labels_x[\"t\"]==t_ji]\n",
    "            t_k = np.unique(labels_x.loc[labels_x[\"k\"] == k][\"t\"])\n",
    "            #x_t_other = x[labels_x[\"t\"] in t_k]\n",
    "        \n",
    "        log_f_new = -np.log(np.math.factorial(x_ji)) + logg(x_ji + alpha) - \n",
    "                    (x_ji + alpha)*np.log(1 + beta) + alpha*np.log(beta) - logg(alpha)\n",
    "        curr_prob += gamma_0/(M + gamma_0)*np.exp(log_f_new)\n",
    "        t_new_prob = alpha_0*curr_prob\n",
    "        \n",
    "        \n",
    "        \n",
    "        #sampling\n",
    "        \n",
    "        #saving\n",
    "        "
   ]
  },
  {
   "cell_type": "code",
   "execution_count": null,
   "metadata": {},
   "outputs": [],
   "source": [
    "def update_fk_jt_poisson(x, fk_ji, fk_jt, theta_k, alpha, beta, alpha_0, gamma_0, labels_x, N, M, K):\n",
    "    for jt in np.random.permutation(M):\n",
    "        "
   ]
  }
 ],
 "metadata": {
  "kernelspec": {
   "display_name": "Python 3",
   "language": "python",
   "name": "python3"
  },
  "language_info": {
   "codemirror_mode": {
    "name": "ipython",
    "version": 3
   },
   "file_extension": ".py",
   "mimetype": "text/x-python",
   "name": "python",
   "nbconvert_exporter": "python",
   "pygments_lexer": "ipython3",
   "version": "3.7.6"
  }
 },
 "nbformat": 4,
 "nbformat_minor": 4
}
