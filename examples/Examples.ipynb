{
 "cells": [
  {
   "cell_type": "markdown",
   "metadata": {},
   "source": [
    "# `hdp_py` Examples\n",
    "\n",
    "Below are some examples of the implemented functionality for this package.  See the `README` for installation instructions."
   ]
  },
  {
   "cell_type": "code",
   "execution_count": 22,
   "metadata": {},
   "outputs": [],
   "source": [
    "from hdp_py import HDP, get_data\n",
    "import numpy as np\n",
    "import pandas as pd\n",
    "\n",
    "np.random.seed(0)\n",
    "N, L, Jmax, n = 200, 100, 10, 10"
   ]
  },
  {
   "cell_type": "code",
   "execution_count": 23,
   "metadata": {},
   "outputs": [
    {
     "name": "stdout",
     "output_type": "stream",
     "text": [
      "j = [5 0 3 3 7 9 3 5 2 4]\n",
      "x = \n",
      "[[ 4]\n",
      " [ 0]\n",
      " [ 0]\n",
      " [ 3]\n",
      " [ 5]\n",
      " [11]\n",
      " [ 1]\n",
      " [ 8]\n",
      " [ 1]\n",
      " [ 4]]\n"
     ]
    }
   ],
   "source": [
    "# Poisson data model\n",
    "j_pois = np.random.choice(Jmax, N)\n",
    "x_pois = np.random.poisson(j_pois, N)[:, None]  # each group j is Poisson(j)\n",
    "print(f\"j = {j_pois[:10]}\")\n",
    "print(f\"x = \\n{x_pois[:10]}\")"
   ]
  },
  {
   "cell_type": "code",
   "execution_count": 24,
   "metadata": {},
   "outputs": [
    {
     "name": "stdout",
     "output_type": "stream",
     "text": [
      "j = [3 4 9 3 0 0 6 4 3 3]\n",
      "x = \n",
      "[[8 3 2 ... 8 6 6]\n",
      " [3 4 4 ... 3 5 8]\n",
      " [9 5 0 ... 5 7 3]\n",
      " ...\n",
      " [4 0 0 ... 3 8 8]\n",
      " [4 2 2 ... 3 0 3]\n",
      " [7 5 7 ... 9 8 1]]\n"
     ]
    }
   ],
   "source": [
    "# Multinomial data model\n",
    "j_mult = np.random.choice(Jmax, N)\n",
    "x_mult = np.random.choice(n, (N,L))\n",
    "print(f\"j = {j_mult[:10]}\")\n",
    "print(f\"x = \\n{x_mult}\")"
   ]
  },
  {
   "cell_type": "code",
   "execution_count": 25,
   "metadata": {},
   "outputs": [
    {
     "name": "stdout",
     "output_type": "stream",
     "text": [
      "j = [5 2 3 5 3 1 2 1 0 9]\n",
      "x = \n",
      "[[0 0 0 ... 0 0 0]\n",
      " [0 0 0 ... 0 0 0]\n",
      " [0 0 0 ... 0 0 0]\n",
      " ...\n",
      " [0 0 0 ... 0 0 0]\n",
      " [0 0 0 ... 0 0 0]\n",
      " [0 0 0 ... 0 0 0]]\n"
     ]
    }
   ],
   "source": [
    "# Categorical data model\n",
    "j_cat = np.random.choice(Jmax, N)\n",
    "one_idx = np.random.choice(L, N)\n",
    "x_cat = np.zeros((N,L), dtype='int')\n",
    "x_cat[range(N), one_idx] = 1\n",
    "print(f\"j = {j_cat[:10]}\")\n",
    "print(f\"x = \\n{x_cat}\")"
   ]
  },
  {
   "cell_type": "code",
   "execution_count": 45,
   "metadata": {},
   "outputs": [],
   "source": [
    "# Initializing models\n",
    "hdp_pois = HDP.HDP(gamma=0.5, alpha0=0.5, f='poisson', hypers=(1,10))\n",
    "hdp_mult = HDP.HDP(gamma=0.5, alpha0=0.5, f='multinomial', hypers=(L, np.full(L, 0.5)))\n",
    "# Both the below are special cases of the multinomial class\n",
    "hdp_cat = HDP.HDP(gamma=0.5, alpha0=0.5, f='categorical', hypers=(L, np.full(L, 0.5)))\n",
    "hdp_cat2 = HDP.HDP(gamma=0.5, alpha0=0.5, f='categorical_fast', hypers=(L, np.full(L, 0.5)))"
   ]
  },
  {
   "cell_type": "code",
   "execution_count": 46,
   "metadata": {},
   "outputs": [
    {
     "name": "stdout",
     "output_type": "stream",
     "text": [
      "Wall time: 5.97 s\n",
      "Wall time: 10.6 s\n",
      "Wall time: 5.29 s\n",
      "Wall time: 4.83 s\n"
     ]
    }
   ],
   "source": [
    "# CFR sampling - method returns the object itself\n",
    "%time hdp_pois = hdp_pois.gibbs_cfr(x_pois, j_pois, iters=10)\n",
    "%time hdp_mult = hdp_mult.gibbs_cfr(x_mult, j_mult, iters=10, Tmax=10)\n",
    "%time hdp_cat = hdp_cat.gibbs_cfr(x_cat, j_cat, iters=10, Tmax=10, Kmax=10)\n",
    "%time hdp_cat2 = hdp_cat2.gibbs_cfr(x_cat, j_cat, iters=10, Tmax=10, Kmax=10)"
   ]
  },
  {
   "cell_type": "code",
   "execution_count": 47,
   "metadata": {},
   "outputs": [
    {
     "name": "stdout",
     "output_type": "stream",
     "text": [
      "[[ 4 72]\n",
      " [28 13]\n",
      " [14  9]\n",
      " [14  9]\n",
      " [26 97]\n",
      " [ 1 97]\n",
      " [15  4]\n",
      " [29 97]\n",
      " [17 44]\n",
      " [ 0 44]]\n",
      "[5 7 9 9 3 0 2 7 2 5]\n"
     ]
    }
   ],
   "source": [
    "# Access the CFR samples like this (first column are t values, second columnn are k values)\n",
    "print(hdp_pois.cfr_samples[0,:10,:])  # initial iteration for first 10 observations\n",
    "print(hdp_cat.cfr_samples[:,0,1])     # k value path for first observation"
   ]
  },
  {
   "cell_type": "code",
   "execution_count": 54,
   "metadata": {},
   "outputs": [
    {
     "name": "stdout",
     "output_type": "stream",
     "text": [
      "Wall time: 10.5 s\n",
      "Wall time: 38.3 s\n",
      "Wall time: 6.08 s\n",
      "Wall time: 1.5 s\n"
     ]
    }
   ],
   "source": [
    "# Direct sampling - method returns the object itself\n",
    "%time hdp_pois = hdp_pois.gibbs_direct(x_pois, j_pois, iters=100)\n",
    "%time hdp_mult = hdp_mult.gibbs_direct(x_mult, j_mult, iters=100)\n",
    "%time hdp_cat = hdp_cat.gibbs_direct(x_cat, j_cat, iters=100, Kmax=10)\n",
    "%time hdp_cat2 = hdp_cat2.gibbs_direct(x_cat, j_cat, iters=100, Kmax=10)"
   ]
  },
  {
   "cell_type": "code",
   "execution_count": 51,
   "metadata": {},
   "outputs": [
    {
     "name": "stdout",
     "output_type": "stream",
     "text": [
      "k =\n",
      "[ 0 92 71 71  0  0 71  0 71  0  0  0  0  0 71  0  0  0  0 71  0  0  0  0\n",
      "  0 71 92 71  0 92 71 71  0 71 71 71 71  0 92 71  0  0 92  0  0 71 71  0\n",
      " 71 92 92 71  0  0  0  0 71 71 71  0  0 71 71  0  0  0 71  0  0 71 92 71\n",
      "  0  0 71 71  0 71  0 71 71 71  0  0 71  0  0  0 92 71  0  0 71 92  0 92\n",
      " 71  0  0 71 92 71 71 92  0  0  0 92 71  0 71  0 71 71  0 71 71  0 71 71\n",
      "  0 71 71  0  0 71 71 92 92  0 92  0 71 71  0  0  0  0 71 71 92  0  0  0\n",
      "  0 71  0  0 71 92 71  0  0  0  0 92  0  0  0 92  0  0  0 71 71  0 92 71\n",
      "  0  0  0  0  0  0  0 71  0  0  0  0 71  0  0  0 71 71  0  0 71  0  0  0\n",
      " 92  0  0  0  0  0 71 71]\n",
      "beta =\n",
      "[0.791 0.    0.    0.    0.    0.    0.    0.    0.    0.    0.    0.\n",
      " 0.    0.    0.    0.    0.    0.    0.    0.    0.    0.    0.    0.\n",
      " 0.    0.    0.    0.    0.    0.    0.    0.    0.    0.    0.    0.\n",
      " 0.    0.    0.    0.    0.    0.    0.    0.    0.    0.    0.    0.\n",
      " 0.    0.    0.    0.    0.    0.    0.    0.    0.    0.    0.    0.\n",
      " 0.    0.    0.    0.    0.    0.    0.    0.    0.    0.    0.    0.204\n",
      " 0.    0.    0.    0.    0.    0.    0.    0.    0.    0.    0.    0.\n",
      " 0.    0.    0.    0.    0.    0.    0.    0.    0.004 0.    0.    0.\n",
      " 0.    0.    0.    0.    0.001]\n"
     ]
    }
   ],
   "source": [
    "# Access the direct samples like this (each row are the k values of one iteration)\n",
    "# k values of final iteration (notice clustering)\n",
    "print(f\"k =\\n{hdp_pois.direct_samples[-1,:]}\")\n",
    "# corresponding beta weights for final iteration\n",
    "print(f\"beta =\\n{hdp_pois.beta_samples[-1,:].round(3)}\")"
   ]
  },
  {
   "cell_type": "code",
   "execution_count": 52,
   "metadata": {},
   "outputs": [
    {
     "name": "stdout",
     "output_type": "stream",
     "text": [
      "k =\n",
      "[37 26  9 10 37  4 10 37  9 14 37 21 37 37 15 21 37 16 37 15 37  4 37  4\n",
      " 14  9 26  9 37 26 84  9 37 15  9 10 21 97 26 15  4  4 26 14 37 21  9 16\n",
      " 84 26 26 37 37  4 21 37 36 15 36  4 37 15 15 16 16  4  9 21 37  9 26  9\n",
      "  4  4 36 36 21 14 14  9 36 14 37 14 10 37  4 37 26 15 37  4 10 26 37 26\n",
      " 15  9 14 84 26 10  9 26 37 37  4 26 59 16  9  4 84 10 21  9 10 14 15 84\n",
      "  4 15 36 21 37  9 10 26 26 21 26 21 10 10 37 37 37 84  9  9 26 37 37 21\n",
      " 37  9 37 14 10 26 36 10 21  4 37 26 37 37  4 26  4 21 37 10 15 37 26 36\n",
      "  4 21 37 37 37 37  4 37 37 21 21  4 15 21 37 37  9 84 21 21 15 21  4 16\n",
      " 26 37 14 21 37 37  9 21]\n"
     ]
    }
   ],
   "source": [
    "# Note that this does not remove the CFR samples\n",
    "print(f\"k =\\n{hdp_pois.cfr_samples[-1,:,1]}\")"
   ]
  },
  {
   "cell_type": "code",
   "execution_count": 55,
   "metadata": {},
   "outputs": [
    {
     "name": "stdout",
     "output_type": "stream",
     "text": [
      "(100, 200)\n",
      "(150, 200)\n"
     ]
    }
   ],
   "source": [
    "# Can also resume iterations where we left off, if using direct sampling\n",
    "# NOTE: Must be using the same data and Kmax arguments\n",
    "print(hdp_cat.direct_samples.shape)\n",
    "hdp_cat.gibbs_direct(x_cat, j_cat, iters=50, Kmax=10, resume=True)\n",
    "print(hdp_cat.direct_samples.shape)"
   ]
  },
  {
   "cell_type": "code",
   "execution_count": 58,
   "metadata": {},
   "outputs": [
    {
     "name": "stdout",
     "output_type": "stream",
     "text": [
      "[0.12  0.109 0.029 0.049 0.084 0.032 0.065 0.278 0.062 0.164 0.008]\n",
      "[0.212 0.119 0.042 0.022 0.065 0.05  0.055 0.209 0.168 0.044 0.015]\n",
      "[0.253 0.098 0.    0.071 0.067 0.036 0.068 0.107 0.181 0.029 0.089]\n",
      "[0.433 0.099 0.    0.133 0.015 0.025 0.02  0.13  0.113 0.022 0.01 ]\n",
      "[0.371 0.144 0.    0.069 0.011 0.007 0.001 0.231 0.036 0.104 0.027]\n",
      "[0.377 0.147 0.    0.138 0.009 0.    0.015 0.17  0.031 0.111 0.002]\n",
      "[0.292 0.019 0.    0.098 0.008 0.    0.058 0.203 0.05  0.195 0.077]\n",
      "[0.366 0.038 0.034 0.075 0.055 0.    0.111 0.122 0.085 0.019 0.096]\n",
      "[0.485 0.024 0.166 0.146 0.07  0.    0.017 0.021 0.062 0.004 0.004]\n",
      "[0.374 0.197 0.    0.028 0.214 0.    0.008 0.02  0.125 0.014 0.021]\n",
      "[0.261 0.031 0.    0.01  0.309 0.    0.009 0.064 0.142 0.165 0.009]\n",
      "[0.162 0.003 0.    0.011 0.321 0.    0.016 0.006 0.323 0.061 0.098]\n",
      "[0.23  0.074 0.    0.092 0.143 0.    0.173 0.093 0.049 0.109 0.036]\n",
      "[0.27  0.071 0.    0.041 0.063 0.    0.016 0.037 0.252 0.178 0.072]\n",
      "[0.205 0.03  0.    0.02  0.017 0.251 0.012 0.216 0.239 0.005 0.005]\n",
      "[0.131 0.094 0.    0.098 0.028 0.    0.043 0.303 0.281 0.019 0.003]\n",
      "[0.198 0.064 0.    0.122 0.008 0.    0.089 0.002 0.282 0.141 0.092]\n",
      "[0.208 0.225 0.    0.004 0.001 0.    0.111 0.058 0.229 0.124 0.039]\n",
      "[0.227 0.052 0.241 0.083 0.115 0.    0.032 0.017 0.111 0.123 0.   ]\n",
      "[0.121 0.003 0.    0.193 0.092 0.    0.037 0.156 0.174 0.223 0.   ]\n",
      "[0.103 0.145 0.    0.003 0.008 0.    0.01  0.267 0.21  0.032 0.222]\n",
      "[0.078 0.36  0.    0.025 0.086 0.    0.023 0.175 0.097 0.112 0.044]\n",
      "[0.15  0.216 0.    0.055 0.015 0.    0.058 0.423 0.051 0.01  0.022]\n",
      "[0.22  0.073 0.    0.037 0.021 0.    0.074 0.33  0.193 0.034 0.018]\n",
      "[0.147 0.241 0.    0.025 0.034 0.    0.103 0.048 0.372 0.013 0.016]\n",
      "[0.082 0.013 0.    0.03  0.384 0.    0.125 0.063 0.176 0.026 0.101]\n",
      "[0.07  0.012 0.    0.18  0.075 0.    0.056 0.208 0.286 0.068 0.045]\n",
      "[0.106 0.075 0.    0.034 0.008 0.    0.192 0.064 0.384 0.127 0.011]\n",
      "[0.057 0.176 0.    0.037 0.244 0.    0.116 0.033 0.172 0.165 0.   ]\n",
      "[0.338 0.164 0.    0.084 0.004 0.    0.113 0.019 0.193 0.08  0.005]\n",
      "[0.131 0.123 0.    0.001 0.01  0.    0.158 0.015 0.238 0.323 0.   ]\n",
      "[0.09  0.042 0.    0.08  0.239 0.    0.122 0.019 0.286 0.109 0.014]\n",
      "[0.264 0.04  0.    0.141 0.074 0.    0.121 0.014 0.203 0.089 0.054]\n",
      "[0.279 0.055 0.    0.011 0.165 0.    0.144 0.036 0.221 0.089 0.001]\n",
      "[0.092 0.056 0.    0.037 0.16  0.    0.362 0.155 0.025 0.112 0.001]\n",
      "[0.193 0.027 0.    0.013 0.362 0.    0.031 0.169 0.042 0.095 0.069]\n",
      "[0.046 0.026 0.    0.064 0.267 0.    0.126 0.214 0.207 0.015 0.034]\n",
      "[0.174 0.186 0.    0.056 0.178 0.    0.015 0.191 0.127 0.066 0.007]\n",
      "[0.184 0.132 0.    0.008 0.487 0.    0.043 0.062 0.075 0.009 0.001]\n",
      "[0.091 0.162 0.    0.027 0.421 0.    0.013 0.155 0.1   0.028 0.003]\n",
      "[0.028 0.079 0.    0.105 0.154 0.    0.001 0.237 0.215 0.047 0.133]\n",
      "[0.317 0.011 0.    0.015 0.101 0.    0.078 0.012 0.085 0.38  0.   ]\n",
      "[0.185 0.078 0.    0.04  0.03  0.    0.022 0.19  0.107 0.176 0.172]\n",
      "[0.066 0.08  0.    0.055 0.02  0.    0.019 0.319 0.089 0.34  0.011]\n",
      "[0.074 0.062 0.    0.088 0.03  0.    0.037 0.162 0.129 0.368 0.049]\n",
      "[0.057 0.174 0.    0.084 0.176 0.06  0.131 0.033 0.257 0.027 0.   ]\n",
      "[0.154 0.174 0.    0.001 0.058 0.03  0.009 0.068 0.379 0.117 0.009]\n",
      "[0.036 0.041 0.    0.018 0.19  0.    0.116 0.109 0.419 0.007 0.064]\n",
      "[0.132 0.061 0.    0.115 0.066 0.    0.09  0.308 0.141 0.011 0.076]\n",
      "[0.236 0.016 0.    0.084 0.036 0.018 0.019 0.272 0.261 0.048 0.011]\n"
     ]
    }
   ],
   "source": [
    "# Can also toggle verbose output for direct sampler (shown are beta weights)\n",
    "hdp_cat = hdp_cat.gibbs_direct(x_cat, j_cat, iters=50, Kmax=10, verbose=True)"
   ]
  },
  {
   "cell_type": "code",
   "execution_count": 69,
   "metadata": {},
   "outputs": [
    {
     "name": "stdout",
     "output_type": "stream",
     "text": [
      "WARNING: 1 document is empty and being removed...\n",
      "(670, 419)\n",
      "\n",
      "Vocabulary =\n",
      "0              oxygen\n",
      "1             elegans\n",
      "2               cells\n",
      "3      caenorhabditis\n",
      "4             tension\n",
      "5            nematode\n",
      "6         dauerlarvae\n",
      "7              living\n",
      "8             species\n",
      "9               three\n",
      "10            pharynx\n",
      "11              stage\n",
      "12           critical\n",
      "13             rachis\n",
      "14        consumption\n",
      "15               free\n",
      "16             adults\n",
      "17            nuclear\n",
      "18            classes\n",
      "19           bacteria\n",
      "20            complex\n",
      "21           presence\n",
      "22           neurones\n",
      "23            thermal\n",
      "24               cell\n",
      "25                  c\n",
      "26           electron\n",
      "27             stress\n",
      "28          nucleolus\n",
      "29         conditions\n",
      "            ...      \n",
      "389       specialized\n",
      "390           failure\n",
      "391         apparatus\n",
      "392          constant\n",
      "393             least\n",
      "394          produced\n",
      "395           layered\n",
      "396    interpretation\n",
      "397      mitochondria\n",
      "398               dna\n",
      "399                 q\n",
      "400          synaptic\n",
      "401           neurone\n",
      "402              even\n",
      "403         structure\n",
      "404              type\n",
      "405     hermaphrodite\n",
      "406        anatomical\n",
      "407           looking\n",
      "408           feeding\n",
      "409            larval\n",
      "410             great\n",
      "411        epithelial\n",
      "412          briggsae\n",
      "413          lineages\n",
      "414            stages\n",
      "415         undivided\n",
      "416          vicinity\n",
      "417         metaphase\n",
      "418           thought\n",
      "Length: 419, dtype: object\n"
     ]
    }
   ],
   "source": [
    "# Accessing nematode data (from original paper)\n",
    "x_nematode, j_nematode = get_data.get_nematode(max_docs=10)\n",
    "print(x_nematode.shape)\n",
    "print(f\"\\nVocabulary =\\n{pd.Series(x_nematode.columns)}\")"
   ]
  },
  {
   "cell_type": "code",
   "execution_count": 64,
   "metadata": {},
   "outputs": [
    {
     "name": "stdout",
     "output_type": "stream",
     "text": [
      "(1028, 562)\n",
      "\n",
      "Vocabulary =\n",
      "0              dlrs\n",
      "1             total\n",
      "2       bankamerica\n",
      "3               mln\n",
      "4             would\n",
      "5             stock\n",
      "6             price\n",
      "7               new\n",
      "8              prev\n",
      "9              debt\n",
      "10             york\n",
      "11              feb\n",
      "12              nil\n",
      "13         february\n",
      "14              apr\n",
      "15            sales\n",
      "16          company\n",
      "17            times\n",
      "18              per\n",
      "19              mar\n",
      "20            cocoa\n",
      "21         offering\n",
      "22            smith\n",
      "23         computer\n",
      "24              may\n",
      "25         analysts\n",
      "26             also\n",
      "27                v\n",
      "28              oil\n",
      "29             crop\n",
      "           ...     \n",
      "532            form\n",
      "533            term\n",
      "534     dificulties\n",
      "535        mortgage\n",
      "536           joint\n",
      "537            ends\n",
      "538        reaction\n",
      "539             dry\n",
      "540         appears\n",
      "541          season\n",
      "542           years\n",
      "543      cumulative\n",
      "544     outstanding\n",
      "545    registration\n",
      "546            even\n",
      "547          ltbpgt\n",
      "548            sale\n",
      "549         showing\n",
      "550       thousands\n",
      "551          covers\n",
      "552         meeting\n",
      "553      authorized\n",
      "554      subsidiary\n",
      "555          weekly\n",
      "556             old\n",
      "557          pierce\n",
      "558          exceed\n",
      "559          wilson\n",
      "560       investors\n",
      "561           hands\n",
      "Length: 562, dtype: object\n"
     ]
    }
   ],
   "source": [
    "# Accessing Reuters data (manually downloaded and in package)\n",
    "x_reut, j_reut = get_data.get_reuters(max_docs=10)\n",
    "print(x_reut.shape)\n",
    "print(f\"\\nVocabulary =\\n{pd.Series(x_reut.columns)}\")"
   ]
  },
  {
   "cell_type": "code",
   "execution_count": 74,
   "metadata": {},
   "outputs": [
    {
     "name": "stdout",
     "output_type": "stream",
     "text": [
      "[0.081 0.094 0.073 0.136 0.151 0.071 0.075 0.113 0.092 0.108 0.006]\n",
      "[0.125 0.118 0.018 0.093 0.199 0.055 0.103 0.082 0.095 0.108 0.004]\n",
      "[0.143 0.118 0.058 0.037 0.14  0.115 0.114 0.034 0.041 0.2   0.   ]\n",
      "[0.173 0.021 0.01  0.059 0.115 0.11  0.023 0.047 0.112 0.196 0.135]\n",
      "[0.069 0.048 0.037 0.051 0.284 0.059 0.083 0.071 0.027 0.213 0.056]\n",
      "[0.038 0.003 0.035 0.188 0.165 0.067 0.016 0.075 0.003 0.377 0.032]\n",
      "[0.064 0.011 0.063 0.102 0.164 0.019 0.04  0.137 0.002 0.38  0.019]\n",
      "[0.026 0.013 0.024 0.065 0.077 0.057 0.104 0.01  0.003 0.615 0.006]\n",
      "[0.021 0.    0.037 0.111 0.021 0.035 0.078 0.032 0.    0.652 0.014]\n",
      "[0.055 0.022 0.065 0.074 0.116 0.044 0.024 0.022 0.001 0.543 0.035]\n",
      "[0.053 0.028 0.04  0.054 0.19  0.08  0.024 0.003 0.    0.519 0.011]\n",
      "[0.005 0.004 0.022 0.11  0.039 0.041 0.08  0.042 0.    0.615 0.041]\n",
      "[0.    0.006 0.011 0.026 0.036 0.032 0.038 0.098 0.    0.752 0.001]\n",
      "[0.    0.011 0.027 0.029 0.034 0.022 0.002 0.014 0.    0.843 0.018]\n",
      "[0.    0.047 0.005 0.    0.006 0.006 0.046 0.076 0.    0.787 0.026]\n",
      "[0.    0.025 0.064 0.025 0.014 0.017 0.034 0.007 0.    0.729 0.085]\n",
      "[0.021 0.018 0.03  0.021 0.045 0.064 0.002 0.018 0.    0.76  0.021]\n",
      "[0.03  0.007 0.063 0.11  0.087 0.117 0.021 0.067 0.    0.494 0.003]\n",
      "[0.047 0.023 0.03  0.092 0.007 0.068 0.029 0.079 0.    0.565 0.059]\n",
      "[0.021 0.018 0.012 0.03  0.029 0.095 0.082 0.116 0.    0.57  0.027]\n",
      "[0.    0.002 0.022 0.041 0.048 0.047 0.102 0.008 0.    0.665 0.065]\n",
      "[0.    0.044 0.06  0.006 0.048 0.073 0.144 0.02  0.    0.591 0.014]\n",
      "[0.    0.134 0.004 0.005 0.025 0.007 0.054 0.016 0.    0.705 0.051]\n",
      "[0.    0.02  0.05  0.017 0.063 0.08  0.063 0.002 0.    0.671 0.036]\n",
      "[0.003 0.015 0.105 0.002 0.08  0.024 0.049 0.017 0.    0.683 0.021]\n",
      "[0.    0.011 0.02  0.    0.036 0.006 0.11  0.026 0.    0.778 0.014]\n",
      "[0.    0.005 0.051 0.    0.012 0.016 0.023 0.102 0.044 0.74  0.008]\n",
      "[0.    0.016 0.003 0.    0.003 0.003 0.021 0.079 0.025 0.835 0.015]\n",
      "[0.    0.006 0.01  0.    0.053 0.057 0.066 0.007 0.046 0.731 0.024]\n",
      "[0.    0.08  0.006 0.    0.002 0.063 0.012 0.002 0.065 0.757 0.013]\n",
      "[0.    0.063 0.057 0.    0.06  0.091 0.    0.005 0.015 0.694 0.014]\n",
      "[0.    0.104 0.021 0.    0.085 0.048 0.064 0.011 0.02  0.646 0.002]\n",
      "[0.    0.08  0.014 0.    0.069 0.005 0.031 0.012 0.039 0.745 0.006]\n",
      "[0.    0.003 0.003 0.01  0.024 0.015 0.021 0.079 0.082 0.75  0.014]\n",
      "[0.    0.047 0.023 0.    0.007 0.047 0.014 0.021 0.055 0.782 0.003]\n",
      "[0.    0.029 0.059 0.    0.012 0.027 0.006 0.015 0.03  0.819 0.004]\n",
      "[0.    0.029 0.039 0.    0.002 0.031 0.012 0.075 0.024 0.751 0.037]\n",
      "[0.    0.053 0.052 0.    0.048 0.009 0.019 0.069 0.016 0.714 0.021]\n",
      "[0.    0.035 0.047 0.    0.059 0.113 0.094 0.026 0.016 0.597 0.014]\n",
      "[0.    0.07  0.026 0.    0.02  0.054 0.087 0.018 0.039 0.666 0.02 ]\n",
      "[0.    0.084 0.016 0.    0.009 0.044 0.174 0.007 0.081 0.565 0.02 ]\n",
      "[0.    0.062 0.048 0.046 0.002 0.046 0.156 0.03  0.026 0.568 0.015]\n",
      "[0.    0.053 0.026 0.002 0.013 0.102 0.05  0.012 0.021 0.713 0.008]\n",
      "[0.    0.046 0.106 0.002 0.001 0.069 0.032 0.036 0.013 0.687 0.008]\n",
      "[0.    0.008 0.097 0.    0.001 0.066 0.016 0.046 0.121 0.596 0.049]\n",
      "[0.004 0.044 0.026 0.    0.033 0.041 0.015 0.046 0.131 0.634 0.026]\n",
      "[0.    0.089 0.069 0.    0.006 0.078 0.038 0.067 0.088 0.54  0.027]\n",
      "[0.    0.01  0.029 0.    0.009 0.027 0.005 0.015 0.074 0.781 0.05 ]\n",
      "[0.    0.086 0.018 0.    0.021 0.018 0.003 0.082 0.023 0.747 0.002]\n",
      "[0.    0.04  0.009 0.    0.021 0.072 0.048 0.013 0.023 0.761 0.014]\n",
      "Wall time: 2.75 s\n"
     ]
    }
   ],
   "source": [
    "# Running direct sampler on the nematode data\n",
    "L_nematode = x_nematode.shape[1]\n",
    "\n",
    "hdp_nematode = HDP.HDP(f='categorical_fast', hypers=(L, np.full(L, 0.5)))\n",
    "# Data returned is a pandas dataframe, so cast to a numpy array of ints\n",
    "%time hdp_nematode = hdp_nematode.gibbs_direct(x_nematode.to_numpy(dtype='int'), j_nematode, iters=50, Kmax=10, verbose=True)"
   ]
  }
 ],
 "metadata": {
  "kernelspec": {
   "display_name": "Python 3",
   "language": "python",
   "name": "python3"
  },
  "language_info": {
   "codemirror_mode": {
    "name": "ipython",
    "version": 3
   },
   "file_extension": ".py",
   "mimetype": "text/x-python",
   "name": "python",
   "nbconvert_exporter": "python",
   "pygments_lexer": "ipython3",
   "version": "3.7.4"
  }
 },
 "nbformat": 4,
 "nbformat_minor": 4
}
